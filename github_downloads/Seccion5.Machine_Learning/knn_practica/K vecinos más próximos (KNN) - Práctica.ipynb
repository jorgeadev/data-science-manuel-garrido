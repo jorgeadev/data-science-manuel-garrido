{
 "cells": [
  {
   "cell_type": "code",
   "execution_count": 1,
   "metadata": {},
   "outputs": [
    {
     "name": "stdout",
     "output_type": "stream",
     "text": [
      "2017-10-23T18:30:22+02:00\n",
      "\n",
      "CPython 3.6.1\n",
      "IPython 6.2.1\n",
      "\n",
      "compiler   : GCC 4.8.2 20140120 (Red Hat 4.8.2-15)\n",
      "system     : Linux\n",
      "release    : 4.13.0-26-generic\n",
      "machine    : x86_64\n",
      "processor  : x86_64\n",
      "CPU cores  : 8\n",
      "interpreter: 64bit\n"
     ]
    }
   ],
   "source": [
    "%load_ext watermark\n",
    "%watermark"
   ]
  },
  {
   "cell_type": "code",
   "execution_count": 3,
   "metadata": {},
   "outputs": [],
   "source": [
    "import pandas as pd\n",
    "import numpy as np\n",
    "import matplotlib\n",
    "import matplotlib.pyplot as plt\n",
    "\n",
    "%matplotlib inline\n",
    "matplotlib.rcParams['figure.figsize'] = [12, 12]\n",
    "np.random.seed(42)"
   ]
  },
  {
   "cell_type": "markdown",
   "metadata": {
    "collapsed": true
   },
   "source": [
    "# KNN - K vecinos más próximos\n",
    "\n",
    "Vamos a ver como vamos a usar el algoritmo KNN en scikit-learn.\n",
    "\n",
    "El algoritmo KNN se puede usar tanto en problemas de clasificación (con el estimador [KNeighborsClassifier](http://scikit-learn.org/stable/modules/generated/sklearn.neighbors.KNeighborsClassifier.html#sklearn.neighbors.KNeighborsClassifier)) como en problemas de regresión (con el estimador [KNeighborsRegressor](http://scikit-learn.org/stable/modules/generated/sklearn.neighbors.KNeighborsRegressor.html#sklearn.neighbors.KNeighborsRegressor))"
   ]
  },
  {
   "cell_type": "markdown",
   "metadata": {},
   "source": [
    "### Cargamos los datos\n",
    "\n",
    "Para este ejemplo vamos a usar el dataset [CSM (Conventional and Social Media Movies)](https://archive.ics.uci.edu/ml/datasets/CSM+%28Conventional+and+Social+Media+Movies%29+Dataset+2014+and+2015) que contiene información de la popularidad en redes sociales de distintas películas así como las ventas en taquilla."
   ]
  },
  {
   "cell_type": "code",
   "execution_count": 4,
   "metadata": {},
   "outputs": [
    {
     "data": {
      "text/plain": [
       "(231, 12)"
      ]
     },
     "execution_count": 4,
     "metadata": {},
     "output_type": "execute_result"
    }
   ],
   "source": [
    "pelis = pd.read_csv(\"data/datos_peliculas.csv\")\n",
    "pelis.shape"
   ]
  },
  {
   "cell_type": "code",
   "execution_count": 5,
   "metadata": {},
   "outputs": [
    {
     "data": {
      "text/html": [
       "<div>\n",
       "<style scoped>\n",
       "    .dataframe tbody tr th:only-of-type {\n",
       "        vertical-align: middle;\n",
       "    }\n",
       "\n",
       "    .dataframe tbody tr th {\n",
       "        vertical-align: top;\n",
       "    }\n",
       "\n",
       "    .dataframe thead th {\n",
       "        text-align: right;\n",
       "    }\n",
       "</style>\n",
       "<table border=\"1\" class=\"dataframe\">\n",
       "  <thead>\n",
       "    <tr style=\"text-align: right;\">\n",
       "      <th></th>\n",
       "      <th>pelicula</th>\n",
       "      <th>año</th>\n",
       "      <th>ratings</th>\n",
       "      <th>genero</th>\n",
       "      <th>ventas</th>\n",
       "      <th>presupuesto</th>\n",
       "      <th>secuela</th>\n",
       "      <th>vistas_youtube</th>\n",
       "      <th>positivos_youtube</th>\n",
       "      <th>negativos_youtube</th>\n",
       "      <th>comentarios</th>\n",
       "      <th>seguidores_agregados</th>\n",
       "    </tr>\n",
       "  </thead>\n",
       "  <tbody>\n",
       "    <tr>\n",
       "      <th>0</th>\n",
       "      <td>13 Sins</td>\n",
       "      <td>2014</td>\n",
       "      <td>6.3</td>\n",
       "      <td>8</td>\n",
       "      <td>9130</td>\n",
       "      <td>4000000.0</td>\n",
       "      <td>1</td>\n",
       "      <td>3280543</td>\n",
       "      <td>4632</td>\n",
       "      <td>425</td>\n",
       "      <td>636</td>\n",
       "      <td>1120000.0</td>\n",
       "    </tr>\n",
       "    <tr>\n",
       "      <th>1</th>\n",
       "      <td>22 Jump Street</td>\n",
       "      <td>2014</td>\n",
       "      <td>7.1</td>\n",
       "      <td>1</td>\n",
       "      <td>192000000</td>\n",
       "      <td>50000000.0</td>\n",
       "      <td>2</td>\n",
       "      <td>583289</td>\n",
       "      <td>3465</td>\n",
       "      <td>61</td>\n",
       "      <td>186</td>\n",
       "      <td>12350000.0</td>\n",
       "    </tr>\n",
       "    <tr>\n",
       "      <th>2</th>\n",
       "      <td>3 Days to Kill</td>\n",
       "      <td>2014</td>\n",
       "      <td>6.2</td>\n",
       "      <td>1</td>\n",
       "      <td>30700000</td>\n",
       "      <td>28000000.0</td>\n",
       "      <td>1</td>\n",
       "      <td>304861</td>\n",
       "      <td>328</td>\n",
       "      <td>34</td>\n",
       "      <td>47</td>\n",
       "      <td>483000.0</td>\n",
       "    </tr>\n",
       "    <tr>\n",
       "      <th>3</th>\n",
       "      <td>300: Rise of an Empire</td>\n",
       "      <td>2014</td>\n",
       "      <td>6.3</td>\n",
       "      <td>1</td>\n",
       "      <td>106000000</td>\n",
       "      <td>110000000.0</td>\n",
       "      <td>2</td>\n",
       "      <td>452917</td>\n",
       "      <td>2429</td>\n",
       "      <td>132</td>\n",
       "      <td>590</td>\n",
       "      <td>568000.0</td>\n",
       "    </tr>\n",
       "    <tr>\n",
       "      <th>4</th>\n",
       "      <td>A Haunted House 2</td>\n",
       "      <td>2014</td>\n",
       "      <td>4.7</td>\n",
       "      <td>8</td>\n",
       "      <td>17300000</td>\n",
       "      <td>3500000.0</td>\n",
       "      <td>2</td>\n",
       "      <td>3145573</td>\n",
       "      <td>12163</td>\n",
       "      <td>610</td>\n",
       "      <td>1082</td>\n",
       "      <td>1923800.0</td>\n",
       "    </tr>\n",
       "  </tbody>\n",
       "</table>\n",
       "</div>"
      ],
      "text/plain": [
       "                 pelicula   año  ratings  genero     ventas  presupuesto  \\\n",
       "0                 13 Sins  2014      6.3       8       9130    4000000.0   \n",
       "1          22 Jump Street  2014      7.1       1  192000000   50000000.0   \n",
       "2          3 Days to Kill  2014      6.2       1   30700000   28000000.0   \n",
       "3  300: Rise of an Empire  2014      6.3       1  106000000  110000000.0   \n",
       "4       A Haunted House 2  2014      4.7       8   17300000    3500000.0   \n",
       "\n",
       "   secuela  vistas_youtube  positivos_youtube  negativos_youtube  comentarios  \\\n",
       "0        1         3280543               4632                425          636   \n",
       "1        2          583289               3465                 61          186   \n",
       "2        1          304861                328                 34           47   \n",
       "3        2          452917               2429                132          590   \n",
       "4        2         3145573              12163                610         1082   \n",
       "\n",
       "   seguidores_agregados  \n",
       "0             1120000.0  \n",
       "1            12350000.0  \n",
       "2              483000.0  \n",
       "3              568000.0  \n",
       "4             1923800.0  "
      ]
     },
     "execution_count": 5,
     "metadata": {},
     "output_type": "execute_result"
    }
   ],
   "source": [
    "pelis.head()"
   ]
  },
  {
   "cell_type": "markdown",
   "metadata": {},
   "source": [
    "Vamos a eliminar el título de las películas"
   ]
  },
  {
   "cell_type": "code",
   "execution_count": 6,
   "metadata": {},
   "outputs": [],
   "source": [
    "pelis = pelis.drop(\"pelicula\", axis=1)"
   ]
  },
  {
   "cell_type": "markdown",
   "metadata": {},
   "source": [
    "Vamos a usar este dataset para probar KNN en clasificación y en regresión"
   ]
  },
  {
   "cell_type": "code",
   "execution_count": 7,
   "metadata": {},
   "outputs": [],
   "source": [
    "from sklearn.neighbors import KNeighborsClassifier, KNeighborsRegressor\n",
    "from sklearn.model_selection import train_test_split"
   ]
  },
  {
   "cell_type": "markdown",
   "metadata": {},
   "source": [
    "### KNN para problemas de clasificación\n",
    "\n",
    "Probamos KNN para clasificación, en concreto vamos a suponer que queremos predecir el género de una película en función de su popularidad."
   ]
  },
  {
   "cell_type": "code",
   "execution_count": 8,
   "metadata": {},
   "outputs": [],
   "source": [
    "from sklearn.metrics import f1_score\n",
    "\n",
    "variable_objetivo_clasificacion = \"genero\"\n",
    "variables_independientes_clasificacion = pelis.drop(\n",
    "    variable_objetivo_clasificacion, axis=1).columns"
   ]
  },
  {
   "cell_type": "code",
   "execution_count": 9,
   "metadata": {},
   "outputs": [],
   "source": [
    "X_train, X_test, y_train, y_test = train_test_split(\n",
    "    pelis[variables_independientes_clasificacion],\n",
    "    pelis[variable_objetivo_clasificacion], test_size=0.20)"
   ]
  },
  {
   "cell_type": "code",
   "execution_count": 10,
   "metadata": {},
   "outputs": [],
   "source": [
    "KNeighborsClassifier?"
   ]
  },
  {
   "cell_type": "markdown",
   "metadata": {},
   "source": [
    "Los parámetros más importantes a la hora de usar `KNeighborsClasifier` son:\n",
    "\n",
    "- **n_neighbors**: El valor de K, es decir el número de vecinos que considerar a la hora de asignar una clase.\n",
    "- **weights**: A la hora de votar, que importancia dar a los vecinos. Si elegimos `auto` asigna la misma importancia a todos los vecinos. Si elegimos `distance` asigna importancia a los vecinos en función de la distancia de los vecinos al punto a clasificar\n",
    "- **metric**: La métrica a la hora de medir la distancia entre los puntos. Si se usa distancia de Minkowsky se puede elegir p con el parámetro `p`, que por defecto es 2 (lo que computa la distancia euclidiana)."
   ]
  },
  {
   "cell_type": "markdown",
   "metadata": {},
   "source": [
    "En este caso en particular sabemos que valor elegir de K, ya que podemos asumir que el número de categorías del dataset es el total de categorías de películas del dataset de entrenamiento."
   ]
  },
  {
   "cell_type": "code",
   "execution_count": 11,
   "metadata": {},
   "outputs": [
    {
     "data": {
      "text/plain": [
       "10"
      ]
     },
     "execution_count": 11,
     "metadata": {},
     "output_type": "execute_result"
    }
   ],
   "source": [
    "k_categorias = len(y_train.unique())\n",
    "k_categorias"
   ]
  },
  {
   "cell_type": "code",
   "execution_count": 18,
   "metadata": {},
   "outputs": [
    {
     "data": {
      "text/plain": [
       "KNeighborsClassifier(algorithm='auto', leaf_size=30, metric='minkowski',\n",
       "           metric_params=None, n_jobs=1, n_neighbors=10, p=2,\n",
       "           weights='uniform')"
      ]
     },
     "execution_count": 18,
     "metadata": {},
     "output_type": "execute_result"
    }
   ],
   "source": [
    "clasificador_knn = KNeighborsClassifier(n_neighbors=10, \n",
    "                                        weights=\"uniform\")\n",
    "\n",
    "clasificador_knn.fit(X_train, y_train)"
   ]
  },
  {
   "cell_type": "code",
   "execution_count": 19,
   "metadata": {},
   "outputs": [
    {
     "data": {
      "text/plain": [
       "0.3617021276595745"
      ]
     },
     "execution_count": 19,
     "metadata": {},
     "output_type": "execute_result"
    }
   ],
   "source": [
    "preds = clasificador_knn.predict(X_test)\n",
    "f1_score(y_test, preds, average=\"micro\")"
   ]
  },
  {
   "cell_type": "markdown",
   "metadata": {},
   "source": [
    "Si ahora entrenamos el estimador con el argumento de pesos `weights=\"distance\"`, vemos que funciona de forma ligeramente mejor."
   ]
  },
  {
   "cell_type": "code",
   "execution_count": 20,
   "metadata": {},
   "outputs": [
    {
     "data": {
      "text/plain": [
       "0.38297872340425526"
      ]
     },
     "execution_count": 20,
     "metadata": {},
     "output_type": "execute_result"
    }
   ],
   "source": [
    "clasificador_knn = KNeighborsClassifier(n_neighbors=10, \n",
    "                                        weights=\"distance\")\n",
    "\n",
    "clasificador_knn.fit(X_train, y_train)\n",
    "\n",
    "preds = clasificador_knn.predict(X_test)\n",
    "f1_score(y_test, preds, average=\"micro\")"
   ]
  },
  {
   "cell_type": "markdown",
   "metadata": {},
   "source": [
    "Podemos usar el método `kneighbors` para devolver los k vecinos de un punto en concreto"
   ]
  },
  {
   "cell_type": "code",
   "execution_count": 21,
   "metadata": {},
   "outputs": [
    {
     "data": {
      "text/plain": [
       "año                         2015.0\n",
       "ratings                        7.7\n",
       "ventas                  49500000.0\n",
       "presupuesto             30000000.0\n",
       "secuela                        1.0\n",
       "vistas_youtube          11476882.0\n",
       "positivos_youtube          40496.0\n",
       "negativos_youtube           1383.0\n",
       "comentarios                 4435.0\n",
       "seguidores_agregados           0.0\n",
       "Name: 218, dtype: float64"
      ]
     },
     "execution_count": 21,
     "metadata": {},
     "output_type": "execute_result"
    }
   ],
   "source": [
    "X_test.iloc[0]"
   ]
  },
  {
   "cell_type": "code",
   "execution_count": 22,
   "metadata": {},
   "outputs": [
    {
     "data": {
      "text/plain": [
       "(array([[8648469.61304606]]), array([[156]], dtype=int64))"
      ]
     },
     "execution_count": 22,
     "metadata": {},
     "output_type": "execute_result"
    }
   ],
   "source": [
    "distancia, indice = clasificador_knn.kneighbors(\n",
    "    [X_test.iloc[0]], n_neighbors=1)\n",
    "distancia, indice"
   ]
  },
  {
   "cell_type": "code",
   "execution_count": 23,
   "metadata": {},
   "outputs": [
    {
     "data": {
      "text/html": [
       "<div>\n",
       "<style scoped>\n",
       "    .dataframe tbody tr th:only-of-type {\n",
       "        vertical-align: middle;\n",
       "    }\n",
       "\n",
       "    .dataframe tbody tr th {\n",
       "        vertical-align: top;\n",
       "    }\n",
       "\n",
       "    .dataframe thead th {\n",
       "        text-align: right;\n",
       "    }\n",
       "</style>\n",
       "<table border=\"1\" class=\"dataframe\">\n",
       "  <thead>\n",
       "    <tr style=\"text-align: right;\">\n",
       "      <th></th>\n",
       "      <th>año</th>\n",
       "      <th>ratings</th>\n",
       "      <th>ventas</th>\n",
       "      <th>presupuesto</th>\n",
       "      <th>secuela</th>\n",
       "      <th>vistas_youtube</th>\n",
       "      <th>positivos_youtube</th>\n",
       "      <th>negativos_youtube</th>\n",
       "      <th>comentarios</th>\n",
       "      <th>seguidores_agregados</th>\n",
       "    </tr>\n",
       "  </thead>\n",
       "  <tbody>\n",
       "    <tr>\n",
       "      <th>191</th>\n",
       "      <td>2015</td>\n",
       "      <td>7.3</td>\n",
       "      <td>42500000</td>\n",
       "      <td>25000000.0</td>\n",
       "      <td>1</td>\n",
       "      <td>11036701</td>\n",
       "      <td>50002</td>\n",
       "      <td>1005</td>\n",
       "      <td>3525</td>\n",
       "      <td>776000.0</td>\n",
       "    </tr>\n",
       "  </tbody>\n",
       "</table>\n",
       "</div>"
      ],
      "text/plain": [
       "      año  ratings    ventas  presupuesto  secuela  vistas_youtube  \\\n",
       "191  2015      7.3  42500000   25000000.0        1        11036701   \n",
       "\n",
       "     positivos_youtube  negativos_youtube  comentarios  seguidores_agregados  \n",
       "191              50002               1005         3525              776000.0  "
      ]
     },
     "execution_count": 23,
     "metadata": {},
     "output_type": "execute_result"
    }
   ],
   "source": [
    "X_train.iloc[indice[0]]"
   ]
  },
  {
   "cell_type": "markdown",
   "metadata": {},
   "source": [
    "Vemos que el vecino más cercano es similar."
   ]
  },
  {
   "cell_type": "markdown",
   "metadata": {},
   "source": [
    "### KNN para problemas de regresión\n",
    "\n",
    "Vamos a utilizar ahora el algoritmo KNN para un problema de regresión, KNN funciona igual para hacer regresiones, simplemente que en vez de una votación donde la clase más común entre los vecinos más próximos es la elegida, se hace una interpolación de los valores de la variable numérica objetivo de los vecinos.\n",
    "\n",
    "en concreto vamos a estimar las ventas de entradas en taquilla de una película en función de su popularidad online y presupuesto."
   ]
  },
  {
   "cell_type": "code",
   "execution_count": 24,
   "metadata": {},
   "outputs": [],
   "source": [
    "from sklearn.metrics import mean_squared_error\n",
    "\n",
    "variable_objetivo_regresion = \"ventas\"\n",
    "variables_independientes_regresion = pelis.drop(\n",
    "    variable_objetivo_regresion, axis=1).columns"
   ]
  },
  {
   "cell_type": "code",
   "execution_count": 25,
   "metadata": {},
   "outputs": [],
   "source": [
    "X_train, X_test, y_train, y_test = train_test_split(\n",
    "    pelis[variables_independientes_regresion],\n",
    "    pelis[variable_objetivo_regresion], test_size=0.20)"
   ]
  },
  {
   "cell_type": "markdown",
   "metadata": {},
   "source": [
    "Usamos la implementación en sklearn `KNeighborsRegressor` para problemas de regresión. Tiene los mismos hiperparámetros que `NeighborsClassifier`."
   ]
  },
  {
   "cell_type": "code",
   "execution_count": 26,
   "metadata": {},
   "outputs": [],
   "source": [
    "KNeighborsRegressor?"
   ]
  },
  {
   "cell_type": "code",
   "execution_count": 27,
   "metadata": {},
   "outputs": [
    {
     "data": {
      "text/plain": [
       "KNeighborsRegressor(algorithm='auto', leaf_size=30, metric='minkowski',\n",
       "          metric_params=None, n_jobs=1, n_neighbors=10, p=2,\n",
       "          weights='distance')"
      ]
     },
     "execution_count": 27,
     "metadata": {},
     "output_type": "execute_result"
    }
   ],
   "source": [
    "regresor_knn = KNeighborsRegressor(n_neighbors=10, weights=\"distance\")\n",
    "\n",
    "regresor_knn.fit(X_train, y_train)"
   ]
  },
  {
   "cell_type": "code",
   "execution_count": 28,
   "metadata": {},
   "outputs": [
    {
     "data": {
      "text/plain": [
       "array([5.77598582e+06, 1.99218779e+08, 5.22718267e+07, 3.04748097e+06,\n",
       "       7.80062231e+07, 4.78727214e+07, 5.21240238e+07, 5.93022167e+07,\n",
       "       7.49468197e+07, 9.12329679e+07, 7.03489473e+07, 1.82692317e+08,\n",
       "       2.82445048e+07, 1.08624687e+07, 3.97173720e+07, 4.03493052e+07,\n",
       "       3.63396779e+07, 3.23651506e+07, 1.21506362e+07, 2.18446367e+07,\n",
       "       1.29536895e+08, 1.12369979e+07, 4.43514409e+07, 4.01796045e+07,\n",
       "       1.32035921e+07, 1.02480559e+08, 9.88894202e+07, 9.56558550e+07,\n",
       "       7.74208639e+07, 3.06222002e+08, 9.01985135e+07, 3.57704603e+06,\n",
       "       7.15873565e+06, 1.59847370e+08, 5.88276776e+07, 2.23216488e+08,\n",
       "       1.27252372e+07, 3.99596725e+07, 3.71233940e+07, 8.00191716e+07,\n",
       "       3.10354554e+07, 3.86931786e+07, 1.94912972e+08, 2.23710764e+08,\n",
       "       5.81636294e+07, 2.26283159e+07, 1.19539899e+07])"
      ]
     },
     "execution_count": 28,
     "metadata": {},
     "output_type": "execute_result"
    }
   ],
   "source": [
    "preds = regresor_knn.predict(X_test)\n",
    "preds"
   ]
  },
  {
   "cell_type": "code",
   "execution_count": 29,
   "metadata": {},
   "outputs": [
    {
     "data": {
      "text/plain": [
       "43959789.048082694"
      ]
     },
     "execution_count": 29,
     "metadata": {},
     "output_type": "execute_result"
    }
   ],
   "source": [
    "np.sqrt(np.abs(mean_squared_error(y_test, preds)))"
   ]
  },
  {
   "cell_type": "markdown",
   "metadata": {},
   "source": [
    "Ahora vemos el funcionamiento en validación cruzada tanto del clasificador como el regresor"
   ]
  },
  {
   "cell_type": "code",
   "execution_count": 30,
   "metadata": {},
   "outputs": [],
   "source": [
    "from sklearn.model_selection import cross_val_score"
   ]
  },
  {
   "cell_type": "code",
   "execution_count": 31,
   "metadata": {},
   "outputs": [
    {
     "name": "stdout",
     "output_type": "stream",
     "text": [
      "La puntuación F1 de KNN para clasificacion en este dataset es 0.54\n"
     ]
    },
    {
     "name": "stderr",
     "output_type": "stream",
     "text": [
      "C:\\Users\\manuel\\Anaconda3\\envs\\data\\lib\\site-packages\\sklearn\\model_selection\\_split.py:605: Warning: The least populated class in y has only 1 members, which is too few. The minimum number of members in any class cannot be less than n_splits=3.\n",
      "  % (min_groups, self.n_splits)), Warning)\n"
     ]
    }
   ],
   "source": [
    "error_validacion_cruzada_clasificacion = np.sqrt(np.abs(\n",
    "    cross_val_score(KNeighborsClassifier(n_neighbors=k_categorias,\n",
    "                                         weights=\"distance\"), \n",
    "                X=pelis[variables_independientes_clasificacion],\n",
    "               y=pelis[variable_objetivo_clasificacion], \n",
    "               scoring=\"f1_micro\"\n",
    "        ).mean()\n",
    "      )\n",
    ")\n",
    "print(\"La puntuación F1 de KNN para clasificacion en este dataset es {:.2f}\".format(\n",
    "    error_validacion_cruzada_clasificacion))"
   ]
  },
  {
   "cell_type": "code",
   "execution_count": 32,
   "metadata": {},
   "outputs": [
    {
     "name": "stdout",
     "output_type": "stream",
     "text": [
      "El error RMSE de KNN para regresión en este dataset es 69488698.28$\n"
     ]
    }
   ],
   "source": [
    "error_validacion_cruzada_regresion = np.sqrt(np.abs(\n",
    "    cross_val_score(KNeighborsRegressor(weights=\"distance\"), \n",
    "                X=pelis[variables_independientes_regresion],\n",
    "               y=pelis[variable_objetivo_regresion], \n",
    "               scoring=\"neg_mean_squared_error\"\n",
    "        ).mean()\n",
    "      )\n",
    ")\n",
    "print(\"El error RMSE de KNN para regresión en este dataset es {:.2f}$\".format(\n",
    "    error_validacion_cruzada_regresion))"
   ]
  },
  {
   "cell_type": "code",
   "execution_count": null,
   "metadata": {},
   "outputs": [],
   "source": [
    "\n"
   ]
  }
 ],
 "metadata": {
  "kernelspec": {
   "display_name": "Python 3",
   "language": "python",
   "name": "python3"
  },
  "language_info": {
   "codemirror_mode": {
    "name": "ipython",
    "version": 3
   },
   "file_extension": ".py",
   "mimetype": "text/x-python",
   "name": "python",
   "nbconvert_exporter": "python",
   "pygments_lexer": "ipython3",
   "version": "3.6.4"
  }
 },
 "nbformat": 4,
 "nbformat_minor": 2
}
